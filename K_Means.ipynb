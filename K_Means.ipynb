{
  "nbformat": 4,
  "nbformat_minor": 0,
  "metadata": {
    "colab": {
      "name": "K-Means.ipynb",
      "provenance": [],
      "collapsed_sections": [],
      "authorship_tag": "ABX9TyMuy2VBDALyZfp7kQVgbc1y",
      "include_colab_link": true
    },
    "kernelspec": {
      "name": "python3",
      "display_name": "Python 3"
    },
    "language_info": {
      "name": "python"
    }
  },
  "cells": [
    {
      "cell_type": "markdown",
      "metadata": {
        "id": "view-in-github",
        "colab_type": "text"
      },
      "source": [
        "<a href=\"https://colab.research.google.com/github/Amellias/Learning-Progress-K-Means-/blob/main/K_Means.ipynb\" target=\"_parent\"><img src=\"https://colab.research.google.com/assets/colab-badge.svg\" alt=\"Open In Colab\"/></a>"
      ]
    },
    {
      "cell_type": "code",
      "execution_count": 8,
      "metadata": {
        "id": "dAXZUFlezKmT"
      },
      "outputs": [],
      "source": [
        "import pandas as pd\n",
        "import numpy as np\n",
        "import matplotlib.pyplot as plt"
      ]
    },
    {
      "cell_type": "code",
      "source": [
        "data = pd.read_csv('dataset.csv', index_col=0)\n",
        "data.head()"
      ],
      "metadata": {
        "id": "Hv8HJtD03A3a"
      },
      "execution_count": null,
      "outputs": []
    },
    {
      "cell_type": "code",
      "source": [
        "data['cluster'].value_counts()"
      ],
      "metadata": {
        "id": "vuIjVTv_3jX_"
      },
      "execution_count": null,
      "outputs": []
    },
    {
      "cell_type": "code",
      "source": [
        "x_ = data['x']\n",
        "y_ = data['y']\n",
        "label = data['cluster']\n",
        "plt.scatter(x_, y_, c = label, cmap='plasma')"
      ],
      "metadata": {
        "id": "328BteSh330I"
      },
      "execution_count": null,
      "outputs": []
    },
    {
      "cell_type": "code",
      "source": [
        "from sklearn.cluster import KMeans\n",
        "from sklearn.preprocessing import StandardScaler"
      ],
      "metadata": {
        "id": "88D1W6MV5wm_"
      },
      "execution_count": 15,
      "outputs": []
    },
    {
      "cell_type": "code",
      "source": [
        "x = data[['x','y']]\n",
        "y = data ['cluster']\n",
        "data.head()"
      ],
      "metadata": {
        "id": "g6mG_cs764C7"
      },
      "execution_count": null,
      "outputs": []
    },
    {
      "cell_type": "code",
      "source": [
        "#preproces\n",
        "scaler = StandardScaler()\n",
        "x = scaler.fit_transform(x)\n",
        "x[:5]"
      ],
      "metadata": {
        "id": "969K-9Qn7F4I"
      },
      "execution_count": null,
      "outputs": []
    },
    {
      "cell_type": "code",
      "source": [
        "kmeans = KMeans(n_clusters=3, random_state=30)\n",
        "kmeans.fit(x)"
      ],
      "metadata": {
        "colab": {
          "base_uri": "https://localhost:8080/"
        },
        "id": "4x0xATcl7quc",
        "outputId": "b6872ed8-7e95-4323-9b96-877614e5d622"
      },
      "execution_count": 25,
      "outputs": [
        {
          "output_type": "execute_result",
          "data": {
            "text/plain": [
              "KMeans(n_clusters=3, random_state=30)"
            ]
          },
          "metadata": {},
          "execution_count": 25
        }
      ]
    },
    {
      "cell_type": "code",
      "source": [
        "kmeans.labels_"
      ],
      "metadata": {
        "id": "pB8lTCzX8M_I"
      },
      "execution_count": null,
      "outputs": []
    },
    {
      "cell_type": "code",
      "source": [
        "x_ = data['x']\n",
        "y_ = data['y']\n",
        "label = kmeans.labels_\n",
        "plt.scatter(x_, y_, c = label, cmap='plasma')"
      ],
      "metadata": {
        "id": "pHI-wIw78Z2m"
      },
      "execution_count": null,
      "outputs": []
    },
    {
      "cell_type": "code",
      "source": [
        "#evaluation 1\n",
        "#sum of square errors\n",
        "#This evaluation is used if we do not have the cluster\n",
        "\n",
        "sse = []\n",
        "index = range(1,10)\n",
        "for i in index:\n",
        "  kmeans = KMeans(n_clusters=i, random_state=30)\n",
        "  kmeans.fit(x)\n",
        "  sse_ = kmeans.inertia_\n",
        "  sse.append(sse_)\n",
        "  print(i, sse_)\n",
        "\n",
        "  #sse is the distance of each data to it's centering"
      ],
      "metadata": {
        "id": "a1ZmtAzx9Ahp"
      },
      "execution_count": null,
      "outputs": []
    },
    {
      "cell_type": "code",
      "source": [
        "plt.plot(index, sse)\n",
        "plt.xlabel('n_cluster')\n",
        "plt.ylabel('SSE')\n",
        "plt.show"
      ],
      "metadata": {
        "id": "0ymZuq4l_ASw"
      },
      "execution_count": null,
      "outputs": []
    },
    {
      "cell_type": "code",
      "source": [
        "#evaluasi rand score\n",
        "from sklearn import metrics\n",
        "rand = []\n",
        "index = range(1,10)\n",
        "for i in index:\n",
        "  kmeans = KMeans(n_clusters=i, random_state=30)\n",
        "  kmeans.fit(x)\n",
        "  rand_ = metrics.adjusted_rand_score(y,kmeans.labels_)\n",
        "  rand.append(rand_)\n",
        "  print(i, rand_)\n"
      ],
      "metadata": {
        "id": "Fs3uB0t7AFqt"
      },
      "execution_count": null,
      "outputs": []
    },
    {
      "cell_type": "code",
      "source": [
        "plt.plot(index, rand)\n",
        "plt.xlabel('n_cluster')\n",
        "plt.ylabel('rand_score')\n",
        "plt.show"
      ],
      "metadata": {
        "id": "6SbrI81WBBtr"
      },
      "execution_count": null,
      "outputs": []
    }
  ]
}